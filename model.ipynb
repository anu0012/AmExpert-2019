{
 "cells": [
  {
   "cell_type": "code",
   "execution_count": 373,
   "metadata": {},
   "outputs": [],
   "source": [
    "import numpy as np\n",
    "import os\n",
    "import pandas as pd\n",
    "import sys\n",
    "import matplotlib.pyplot as plt\n",
    "%matplotlib inline\n",
    "from sklearn.model_selection import train_test_split\n",
    "from sklearn.naive_bayes import MultinomialNB, BernoulliNB, GaussianNB\n",
    "from sklearn.svm import LinearSVC,SVC\n",
    "from sklearn.ensemble import RandomForestClassifier, GradientBoostingClassifier, VotingClassifier, ExtraTreesClassifier, AdaBoostClassifier, BaggingClassifier\n",
    "from sklearn.linear_model import SGDClassifier, LogisticRegression\n",
    "from sklearn.linear_model import Ridge, RidgeCV, ElasticNet, LassoCV, LassoLarsCV\n",
    "from sklearn.preprocessing import StandardScaler\n",
    "from sklearn.tree import DecisionTreeClassifier\n",
    "from sklearn.model_selection import cross_val_score,KFold\n",
    "from sklearn.metrics import confusion_matrix, f1_score, accuracy_score, roc_auc_score, recall_score, precision_score,make_scorer,classification_report,roc_curve\n",
    "from sklearn.decomposition import PCA\n",
    "import seaborn as sns\n",
    "sns.set(color_codes=True)\n",
    "from scipy import stats\n",
    "from scipy.stats import norm, skew #for some statistics\n",
    "import xgboost as xgb\n",
    "#import lightgbm as lgb\n",
    "from catboost import CatBoostClassifier\n",
    "np.random.seed(25)\n",
    "import os\n",
    "import warnings \n",
    "warnings.filterwarnings(\"ignore\")"
   ]
  },
  {
   "cell_type": "code",
   "execution_count": 374,
   "metadata": {},
   "outputs": [],
   "source": [
    "train = pd.read_csv('train_AUpWtIz/train.csv')\n",
    "test = pd.read_csv('test_QyjYwdj.csv')\n",
    "campaign_df = pd.read_csv('train_AUpWtIz/campaign_data.csv')\n",
    "coupons = pd.read_csv('train_AUpWtIz/coupon_item_mapping.csv')\n",
    "demographics = pd.read_csv('train_AUpWtIz/customer_demographics.csv')\n",
    "transactions = pd.read_csv('train_AUpWtIz/customer_transaction_data.csv')\n",
    "item_df = pd.read_csv('train_AUpWtIz/item_data.csv')"
   ]
  },
  {
   "cell_type": "code",
   "execution_count": 375,
   "metadata": {},
   "outputs": [
    {
     "data": {
      "text/html": [
       "<div>\n",
       "<style scoped>\n",
       "    .dataframe tbody tr th:only-of-type {\n",
       "        vertical-align: middle;\n",
       "    }\n",
       "\n",
       "    .dataframe tbody tr th {\n",
       "        vertical-align: top;\n",
       "    }\n",
       "\n",
       "    .dataframe thead th {\n",
       "        text-align: right;\n",
       "    }\n",
       "</style>\n",
       "<table border=\"1\" class=\"dataframe\">\n",
       "  <thead>\n",
       "    <tr style=\"text-align: right;\">\n",
       "      <th></th>\n",
       "      <th>id</th>\n",
       "      <th>campaign_id</th>\n",
       "      <th>coupon_id</th>\n",
       "      <th>customer_id</th>\n",
       "      <th>redemption_status</th>\n",
       "    </tr>\n",
       "  </thead>\n",
       "  <tbody>\n",
       "    <tr>\n",
       "      <th>0</th>\n",
       "      <td>1</td>\n",
       "      <td>13</td>\n",
       "      <td>27</td>\n",
       "      <td>1053</td>\n",
       "      <td>0</td>\n",
       "    </tr>\n",
       "    <tr>\n",
       "      <th>1</th>\n",
       "      <td>2</td>\n",
       "      <td>13</td>\n",
       "      <td>116</td>\n",
       "      <td>48</td>\n",
       "      <td>0</td>\n",
       "    </tr>\n",
       "    <tr>\n",
       "      <th>2</th>\n",
       "      <td>6</td>\n",
       "      <td>9</td>\n",
       "      <td>635</td>\n",
       "      <td>205</td>\n",
       "      <td>0</td>\n",
       "    </tr>\n",
       "    <tr>\n",
       "      <th>3</th>\n",
       "      <td>7</td>\n",
       "      <td>13</td>\n",
       "      <td>644</td>\n",
       "      <td>1050</td>\n",
       "      <td>0</td>\n",
       "    </tr>\n",
       "    <tr>\n",
       "      <th>4</th>\n",
       "      <td>9</td>\n",
       "      <td>8</td>\n",
       "      <td>1017</td>\n",
       "      <td>1489</td>\n",
       "      <td>0</td>\n",
       "    </tr>\n",
       "  </tbody>\n",
       "</table>\n",
       "</div>"
      ],
      "text/plain": [
       "   id  campaign_id  coupon_id  customer_id  redemption_status\n",
       "0   1           13         27         1053                  0\n",
       "1   2           13        116           48                  0\n",
       "2   6            9        635          205                  0\n",
       "3   7           13        644         1050                  0\n",
       "4   9            8       1017         1489                  0"
      ]
     },
     "execution_count": 375,
     "metadata": {},
     "output_type": "execute_result"
    }
   ],
   "source": [
    "train.head()"
   ]
  },
  {
   "cell_type": "code",
   "execution_count": 376,
   "metadata": {},
   "outputs": [
    {
     "data": {
      "text/plain": [
       "(78369, 5)"
      ]
     },
     "execution_count": 376,
     "metadata": {},
     "output_type": "execute_result"
    }
   ],
   "source": [
    "train.shape"
   ]
  },
  {
   "cell_type": "code",
   "execution_count": 377,
   "metadata": {},
   "outputs": [
    {
     "data": {
      "text/html": [
       "<div>\n",
       "<style scoped>\n",
       "    .dataframe tbody tr th:only-of-type {\n",
       "        vertical-align: middle;\n",
       "    }\n",
       "\n",
       "    .dataframe tbody tr th {\n",
       "        vertical-align: top;\n",
       "    }\n",
       "\n",
       "    .dataframe thead th {\n",
       "        text-align: right;\n",
       "    }\n",
       "</style>\n",
       "<table border=\"1\" class=\"dataframe\">\n",
       "  <thead>\n",
       "    <tr style=\"text-align: right;\">\n",
       "      <th></th>\n",
       "      <th>date</th>\n",
       "      <th>customer_id</th>\n",
       "      <th>item_id</th>\n",
       "      <th>quantity</th>\n",
       "      <th>selling_price</th>\n",
       "      <th>other_discount</th>\n",
       "      <th>coupon_discount</th>\n",
       "    </tr>\n",
       "  </thead>\n",
       "  <tbody>\n",
       "    <tr>\n",
       "      <th>0</th>\n",
       "      <td>2012-01-02</td>\n",
       "      <td>1501</td>\n",
       "      <td>26830</td>\n",
       "      <td>1</td>\n",
       "      <td>35.26</td>\n",
       "      <td>-10.69</td>\n",
       "      <td>0.0</td>\n",
       "    </tr>\n",
       "    <tr>\n",
       "      <th>1</th>\n",
       "      <td>2012-01-02</td>\n",
       "      <td>1501</td>\n",
       "      <td>54253</td>\n",
       "      <td>1</td>\n",
       "      <td>53.43</td>\n",
       "      <td>-13.89</td>\n",
       "      <td>0.0</td>\n",
       "    </tr>\n",
       "    <tr>\n",
       "      <th>2</th>\n",
       "      <td>2012-01-02</td>\n",
       "      <td>1501</td>\n",
       "      <td>31962</td>\n",
       "      <td>1</td>\n",
       "      <td>106.50</td>\n",
       "      <td>-14.25</td>\n",
       "      <td>0.0</td>\n",
       "    </tr>\n",
       "    <tr>\n",
       "      <th>3</th>\n",
       "      <td>2012-01-02</td>\n",
       "      <td>1501</td>\n",
       "      <td>33647</td>\n",
       "      <td>1</td>\n",
       "      <td>67.32</td>\n",
       "      <td>0.00</td>\n",
       "      <td>0.0</td>\n",
       "    </tr>\n",
       "    <tr>\n",
       "      <th>4</th>\n",
       "      <td>2012-01-02</td>\n",
       "      <td>1501</td>\n",
       "      <td>48199</td>\n",
       "      <td>1</td>\n",
       "      <td>71.24</td>\n",
       "      <td>-28.14</td>\n",
       "      <td>0.0</td>\n",
       "    </tr>\n",
       "  </tbody>\n",
       "</table>\n",
       "</div>"
      ],
      "text/plain": [
       "         date  customer_id  item_id  quantity  selling_price  other_discount  \\\n",
       "0  2012-01-02         1501    26830         1          35.26          -10.69   \n",
       "1  2012-01-02         1501    54253         1          53.43          -13.89   \n",
       "2  2012-01-02         1501    31962         1         106.50          -14.25   \n",
       "3  2012-01-02         1501    33647         1          67.32            0.00   \n",
       "4  2012-01-02         1501    48199         1          71.24          -28.14   \n",
       "\n",
       "   coupon_discount  \n",
       "0              0.0  \n",
       "1              0.0  \n",
       "2              0.0  \n",
       "3              0.0  \n",
       "4              0.0  "
      ]
     },
     "execution_count": 377,
     "metadata": {},
     "output_type": "execute_result"
    }
   ],
   "source": [
    "transactions.head()"
   ]
  },
  {
   "cell_type": "code",
   "execution_count": 378,
   "metadata": {},
   "outputs": [],
   "source": [
    "# New feature\n",
    "# '-' because discounts are in negative\n",
    "transactions['actual_price'] = transactions['selling_price'] - transactions['other_discount'] - transactions['coupon_discount']"
   ]
  },
  {
   "cell_type": "code",
   "execution_count": 379,
   "metadata": {},
   "outputs": [],
   "source": [
    "# fill null values in demographics\n",
    "demographics['no_of_children'].fillna('999999',inplace=True)\n",
    "demographics['marital_status'].fillna('other',inplace=True)"
   ]
  },
  {
   "cell_type": "code",
   "execution_count": 380,
   "metadata": {},
   "outputs": [],
   "source": [
    "cat_agg=['count','nunique']\n",
    "num_agg=['min','max','mean','sum']\n",
    "agg_col={\n",
    "    'quantity':num_agg, 'selling_price':num_agg, 'other_discount':num_agg,'coupon_discount':num_agg,\n",
    "       'brand':cat_agg, 'brand_type':cat_agg, 'category':cat_agg, 'age_range':cat_agg, 'marital_status':cat_agg,\n",
    "    'rented':cat_agg, 'family_size':cat_agg, 'no_of_children':cat_agg, 'income_bracket':cat_agg\n",
    "}\n",
    "transactions = transactions.merge(item_df,how='left',on='item_id').merge(demographics,how='left',on='customer_id').groupby('customer_id').agg(agg_col).reset_index()"
   ]
  },
  {
   "cell_type": "code",
   "execution_count": 381,
   "metadata": {},
   "outputs": [],
   "source": [
    "cat_agg=['count','nunique']\n",
    "num_agg=['min','max','mean','sum']\n",
    "agg_col={ 'brand':cat_agg, 'brand_type':cat_agg, 'category':cat_agg\n",
    "}\n",
    "coupons = coupons.merge(item_df,how='left',on='item_id').groupby('coupon_id').agg(agg_col).reset_index()"
   ]
  },
  {
   "cell_type": "code",
   "execution_count": 382,
   "metadata": {},
   "outputs": [],
   "source": [
    "#coupons = coupons.merge(item_df,how='left',on='item_id')\n",
    "\n",
    "def merged_df(df):\n",
    "    df = df.merge(campaign_df,how='left',on='campaign_id')\n",
    "    df = df.merge(coupons,how='left',on='coupon_id')\n",
    "    df = df.merge(transactions,how='left',on='customer_id')\n",
    "    return df"
   ]
  },
  {
   "cell_type": "code",
   "execution_count": 383,
   "metadata": {},
   "outputs": [],
   "source": [
    "train_df = merged_df(train.copy())\n",
    "test_df = merged_df(test.copy())"
   ]
  },
  {
   "cell_type": "code",
   "execution_count": 384,
   "metadata": {},
   "outputs": [
    {
     "data": {
      "text/plain": [
       "0    77640\n",
       "1      729\n",
       "Name: redemption_status, dtype: int64"
      ]
     },
     "execution_count": 384,
     "metadata": {},
     "output_type": "execute_result"
    }
   ],
   "source": [
    "train_df['redemption_status'].value_counts()"
   ]
  },
  {
   "cell_type": "code",
   "execution_count": 385,
   "metadata": {},
   "outputs": [],
   "source": [
    "# Label encoding of categorical features\n",
    "from sklearn.preprocessing import LabelEncoder\n",
    "\n",
    "lb_make = LabelEncoder()\n",
    "for i in train.columns:\n",
    "    train_df['campaign_type'] = lb_make.fit_transform(train_df['campaign_type'])\n",
    "    test_df['campaign_type'] = lb_make.fit_transform(test_df['campaign_type'])"
   ]
  },
  {
   "cell_type": "code",
   "execution_count": 386,
   "metadata": {},
   "outputs": [
    {
     "data": {
      "text/html": [
       "<div>\n",
       "<style scoped>\n",
       "    .dataframe tbody tr th:only-of-type {\n",
       "        vertical-align: middle;\n",
       "    }\n",
       "\n",
       "    .dataframe tbody tr th {\n",
       "        vertical-align: top;\n",
       "    }\n",
       "\n",
       "    .dataframe thead th {\n",
       "        text-align: right;\n",
       "    }\n",
       "</style>\n",
       "<table border=\"1\" class=\"dataframe\">\n",
       "  <thead>\n",
       "    <tr style=\"text-align: right;\">\n",
       "      <th></th>\n",
       "      <th>id</th>\n",
       "      <th>campaign_id</th>\n",
       "      <th>coupon_id</th>\n",
       "      <th>customer_id</th>\n",
       "      <th>redemption_status</th>\n",
       "      <th>campaign_type</th>\n",
       "      <th>start_date</th>\n",
       "      <th>end_date</th>\n",
       "      <th>('brand', 'count')_x</th>\n",
       "      <th>('brand', 'nunique')_x</th>\n",
       "      <th>...</th>\n",
       "      <th>(marital_status, count)</th>\n",
       "      <th>(marital_status, nunique)</th>\n",
       "      <th>(rented, count)</th>\n",
       "      <th>(rented, nunique)</th>\n",
       "      <th>(family_size, count)</th>\n",
       "      <th>(family_size, nunique)</th>\n",
       "      <th>(no_of_children, count)</th>\n",
       "      <th>(no_of_children, nunique)</th>\n",
       "      <th>(income_bracket, count)</th>\n",
       "      <th>(income_bracket, nunique)</th>\n",
       "    </tr>\n",
       "  </thead>\n",
       "  <tbody>\n",
       "    <tr>\n",
       "      <th>0</th>\n",
       "      <td>1</td>\n",
       "      <td>13</td>\n",
       "      <td>27</td>\n",
       "      <td>1053</td>\n",
       "      <td>0</td>\n",
       "      <td>0</td>\n",
       "      <td>19/05/13</td>\n",
       "      <td>05/07/13</td>\n",
       "      <td>125</td>\n",
       "      <td>2</td>\n",
       "      <td>...</td>\n",
       "      <td>310</td>\n",
       "      <td>1</td>\n",
       "      <td>310</td>\n",
       "      <td>1</td>\n",
       "      <td>310</td>\n",
       "      <td>1</td>\n",
       "      <td>310</td>\n",
       "      <td>1</td>\n",
       "      <td>310</td>\n",
       "      <td>1</td>\n",
       "    </tr>\n",
       "    <tr>\n",
       "      <th>1</th>\n",
       "      <td>2</td>\n",
       "      <td>13</td>\n",
       "      <td>116</td>\n",
       "      <td>48</td>\n",
       "      <td>0</td>\n",
       "      <td>0</td>\n",
       "      <td>19/05/13</td>\n",
       "      <td>05/07/13</td>\n",
       "      <td>3</td>\n",
       "      <td>1</td>\n",
       "      <td>...</td>\n",
       "      <td>385</td>\n",
       "      <td>1</td>\n",
       "      <td>385</td>\n",
       "      <td>1</td>\n",
       "      <td>385</td>\n",
       "      <td>1</td>\n",
       "      <td>385</td>\n",
       "      <td>1</td>\n",
       "      <td>385</td>\n",
       "      <td>1</td>\n",
       "    </tr>\n",
       "    <tr>\n",
       "      <th>2</th>\n",
       "      <td>6</td>\n",
       "      <td>9</td>\n",
       "      <td>635</td>\n",
       "      <td>205</td>\n",
       "      <td>0</td>\n",
       "      <td>1</td>\n",
       "      <td>11/03/13</td>\n",
       "      <td>12/04/13</td>\n",
       "      <td>67</td>\n",
       "      <td>1</td>\n",
       "      <td>...</td>\n",
       "      <td>970</td>\n",
       "      <td>1</td>\n",
       "      <td>970</td>\n",
       "      <td>1</td>\n",
       "      <td>970</td>\n",
       "      <td>1</td>\n",
       "      <td>970</td>\n",
       "      <td>1</td>\n",
       "      <td>970</td>\n",
       "      <td>1</td>\n",
       "    </tr>\n",
       "    <tr>\n",
       "      <th>3</th>\n",
       "      <td>7</td>\n",
       "      <td>13</td>\n",
       "      <td>644</td>\n",
       "      <td>1050</td>\n",
       "      <td>0</td>\n",
       "      <td>0</td>\n",
       "      <td>19/05/13</td>\n",
       "      <td>05/07/13</td>\n",
       "      <td>4</td>\n",
       "      <td>1</td>\n",
       "      <td>...</td>\n",
       "      <td>0</td>\n",
       "      <td>0</td>\n",
       "      <td>0</td>\n",
       "      <td>0</td>\n",
       "      <td>0</td>\n",
       "      <td>0</td>\n",
       "      <td>0</td>\n",
       "      <td>0</td>\n",
       "      <td>0</td>\n",
       "      <td>0</td>\n",
       "    </tr>\n",
       "    <tr>\n",
       "      <th>4</th>\n",
       "      <td>9</td>\n",
       "      <td>8</td>\n",
       "      <td>1017</td>\n",
       "      <td>1489</td>\n",
       "      <td>0</td>\n",
       "      <td>0</td>\n",
       "      <td>16/02/13</td>\n",
       "      <td>05/04/13</td>\n",
       "      <td>32</td>\n",
       "      <td>1</td>\n",
       "      <td>...</td>\n",
       "      <td>562</td>\n",
       "      <td>1</td>\n",
       "      <td>562</td>\n",
       "      <td>1</td>\n",
       "      <td>562</td>\n",
       "      <td>1</td>\n",
       "      <td>562</td>\n",
       "      <td>1</td>\n",
       "      <td>562</td>\n",
       "      <td>1</td>\n",
       "    </tr>\n",
       "  </tbody>\n",
       "</table>\n",
       "<p>5 rows × 48 columns</p>\n",
       "</div>"
      ],
      "text/plain": [
       "   id  campaign_id  coupon_id  customer_id  redemption_status  campaign_type  \\\n",
       "0   1           13         27         1053                  0              0   \n",
       "1   2           13        116           48                  0              0   \n",
       "2   6            9        635          205                  0              1   \n",
       "3   7           13        644         1050                  0              0   \n",
       "4   9            8       1017         1489                  0              0   \n",
       "\n",
       "  start_date  end_date  ('brand', 'count')_x  ('brand', 'nunique')_x  \\\n",
       "0   19/05/13  05/07/13                   125                       2   \n",
       "1   19/05/13  05/07/13                     3                       1   \n",
       "2   11/03/13  12/04/13                    67                       1   \n",
       "3   19/05/13  05/07/13                     4                       1   \n",
       "4   16/02/13  05/04/13                    32                       1   \n",
       "\n",
       "             ...              (marital_status, count)  \\\n",
       "0            ...                                  310   \n",
       "1            ...                                  385   \n",
       "2            ...                                  970   \n",
       "3            ...                                    0   \n",
       "4            ...                                  562   \n",
       "\n",
       "   (marital_status, nunique)  (rented, count)  (rented, nunique)  \\\n",
       "0                          1              310                  1   \n",
       "1                          1              385                  1   \n",
       "2                          1              970                  1   \n",
       "3                          0                0                  0   \n",
       "4                          1              562                  1   \n",
       "\n",
       "   (family_size, count)  (family_size, nunique)  (no_of_children, count)  \\\n",
       "0                   310                       1                      310   \n",
       "1                   385                       1                      385   \n",
       "2                   970                       1                      970   \n",
       "3                     0                       0                        0   \n",
       "4                   562                       1                      562   \n",
       "\n",
       "   (no_of_children, nunique)  (income_bracket, count)  \\\n",
       "0                          1                      310   \n",
       "1                          1                      385   \n",
       "2                          1                      970   \n",
       "3                          0                        0   \n",
       "4                          1                      562   \n",
       "\n",
       "   (income_bracket, nunique)  \n",
       "0                          1  \n",
       "1                          1  \n",
       "2                          1  \n",
       "3                          0  \n",
       "4                          1  \n",
       "\n",
       "[5 rows x 48 columns]"
      ]
     },
     "execution_count": 386,
     "metadata": {},
     "output_type": "execute_result"
    }
   ],
   "source": [
    "train_df.head()"
   ]
  },
  {
   "cell_type": "code",
   "execution_count": 387,
   "metadata": {},
   "outputs": [
    {
     "data": {
      "text/plain": [
       "id                             0\n",
       "campaign_id                    0\n",
       "coupon_id                      0\n",
       "customer_id                    0\n",
       "redemption_status              0\n",
       "campaign_type                  0\n",
       "start_date                     0\n",
       "end_date                       0\n",
       "('brand', 'count')_x           0\n",
       "('brand', 'nunique')_x         0\n",
       "('brand_type', 'count')_x      0\n",
       "('brand_type', 'nunique')_x    0\n",
       "('category', 'count')_x        0\n",
       "('category', 'nunique')_x      0\n",
       "(quantity, min)                0\n",
       "(quantity, max)                0\n",
       "(quantity, mean)               0\n",
       "(quantity, sum)                0\n",
       "(selling_price, min)           0\n",
       "(selling_price, max)           0\n",
       "(selling_price, mean)          0\n",
       "(selling_price, sum)           0\n",
       "(other_discount, min)          0\n",
       "(other_discount, max)          0\n",
       "(other_discount, mean)         0\n",
       "(other_discount, sum)          0\n",
       "(coupon_discount, min)         0\n",
       "(coupon_discount, max)         0\n",
       "(coupon_discount, mean)        0\n",
       "(coupon_discount, sum)         0\n",
       "(brand_y, count)               0\n",
       "(brand_y, nunique)             0\n",
       "(brand_type_y, count)          0\n",
       "(brand_type_y, nunique)        0\n",
       "(category_y, count)            0\n",
       "(category_y, nunique)          0\n",
       "(age_range, count)             0\n",
       "(age_range, nunique)           0\n",
       "(marital_status, count)        0\n",
       "(marital_status, nunique)      0\n",
       "(rented, count)                0\n",
       "(rented, nunique)              0\n",
       "(family_size, count)           0\n",
       "(family_size, nunique)         0\n",
       "(no_of_children, count)        0\n",
       "(no_of_children, nunique)      0\n",
       "(income_bracket, count)        0\n",
       "(income_bracket, nunique)      0\n",
       "dtype: int64"
      ]
     },
     "execution_count": 387,
     "metadata": {},
     "output_type": "execute_result"
    }
   ],
   "source": [
    "train_df.isnull().sum(axis=0)"
   ]
  },
  {
   "cell_type": "code",
   "execution_count": 388,
   "metadata": {},
   "outputs": [
    {
     "data": {
      "text/plain": [
       "48"
      ]
     },
     "execution_count": 388,
     "metadata": {},
     "output_type": "execute_result"
    }
   ],
   "source": [
    "len(train_df.columns)"
   ]
  },
  {
   "cell_type": "code",
   "execution_count": 389,
   "metadata": {},
   "outputs": [],
   "source": [
    "for col in train_df.columns:\n",
    "    if len(train_df[col].unique()) == 1:\n",
    "        train_df.drop(col,inplace=True,axis=1)\n",
    "        test_df.drop(col,inplace=True,axis=1)"
   ]
  },
  {
   "cell_type": "code",
   "execution_count": 390,
   "metadata": {},
   "outputs": [
    {
     "data": {
      "text/plain": [
       "44"
      ]
     },
     "execution_count": 390,
     "metadata": {},
     "output_type": "execute_result"
    }
   ],
   "source": [
    "len(train_df.columns)"
   ]
  },
  {
   "cell_type": "markdown",
   "metadata": {},
   "source": [
    "Four columns has been removed which had single value in all rows."
   ]
  },
  {
   "cell_type": "code",
   "execution_count": 391,
   "metadata": {},
   "outputs": [],
   "source": [
    "# drop_cols = []\n",
    "# for i in train_df.columns:\n",
    "#     for j in train_df.columns:\n",
    "#         #print(i,j)\n",
    "#         if (i!=j) and (train_df[i].equals(train_df[j])):\n",
    "#             drop_cols.append(j)\n",
    "            \n",
    "# train_df.drop(drop_cols,inplace=True,axis=1)\n",
    "# test_df.drop(drop_cols,inplace=True,axis=1)"
   ]
  },
  {
   "cell_type": "code",
   "execution_count": 392,
   "metadata": {},
   "outputs": [
    {
     "data": {
      "text/plain": [
       "Index([                         'id',                 'campaign_id',\n",
       "                         'coupon_id',                 'customer_id',\n",
       "                 'redemption_status',               'campaign_type',\n",
       "                        'start_date',                    'end_date',\n",
       "              '('brand', 'count')_x',      '('brand', 'nunique')_x',\n",
       "         '('brand_type', 'count')_x', '('brand_type', 'nunique')_x',\n",
       "           '('category', 'count')_x',   '('category', 'nunique')_x',\n",
       "                 ('quantity', 'max'),          ('quantity', 'mean'),\n",
       "                 ('quantity', 'sum'),      ('selling_price', 'min'),\n",
       "            ('selling_price', 'max'),     ('selling_price', 'mean'),\n",
       "            ('selling_price', 'sum'),     ('other_discount', 'min'),\n",
       "          ('other_discount', 'mean'),     ('other_discount', 'sum'),\n",
       "          ('coupon_discount', 'min'),   ('coupon_discount', 'mean'),\n",
       "          ('coupon_discount', 'sum'),          ('brand_y', 'count'),\n",
       "              ('brand_y', 'nunique'),     ('brand_type_y', 'count'),\n",
       "             ('category_y', 'count'),     ('category_y', 'nunique'),\n",
       "              ('age_range', 'count'),      ('age_range', 'nunique'),\n",
       "         ('marital_status', 'count'), ('marital_status', 'nunique'),\n",
       "                 ('rented', 'count'),         ('rented', 'nunique'),\n",
       "            ('family_size', 'count'),    ('family_size', 'nunique'),\n",
       "         ('no_of_children', 'count'), ('no_of_children', 'nunique'),\n",
       "         ('income_bracket', 'count'), ('income_bracket', 'nunique')],\n",
       "      dtype='object')"
      ]
     },
     "execution_count": 392,
     "metadata": {},
     "output_type": "execute_result"
    }
   ],
   "source": [
    "train_df.columns"
   ]
  },
  {
   "cell_type": "code",
   "execution_count": 393,
   "metadata": {},
   "outputs": [],
   "source": [
    "# for i in train_df.columns:\n",
    "#     try:\n",
    "#         train_df[i] = np.log1p(train_df[x]+(min(train_df[x]) * -1))\n",
    "#     except:\n",
    "#         pass"
   ]
  },
  {
   "cell_type": "code",
   "execution_count": 394,
   "metadata": {},
   "outputs": [],
   "source": [
    "# x = train_df.columns[20]\n",
    "# sns.distplot((train_df[x]))\n",
    "# plt.show()\n",
    "# sns.distplot(np.log1p(train_df[x]+(min(train_df[x]) * -1)))\n",
    "# plt.show()"
   ]
  },
  {
   "cell_type": "code",
   "execution_count": 395,
   "metadata": {},
   "outputs": [],
   "source": [
    "train_df[\"start_date\"] = (pd.to_datetime(train_df['start_date'], format=\"%d/%m/%y\"))\n",
    "test_df[\"start_date\"] = (pd.to_datetime(test_df['start_date'], format=\"%d/%m/%y\"))\n",
    "\n",
    "train_df[\"end_date\"] = (pd.to_datetime(train_df['end_date'], format=\"%d/%m/%y\"))\n",
    "test_df[\"end_date\"] = (pd.to_datetime(test_df['end_date'], format=\"%d/%m/%y\"))"
   ]
  },
  {
   "cell_type": "code",
   "execution_count": 396,
   "metadata": {},
   "outputs": [
    {
     "data": {
      "text/plain": [
       "array(['2013-07-05T00:00:00.000000000', '2013-04-12T00:00:00.000000000',\n",
       "       '2013-04-05T00:00:00.000000000', '2013-06-07T00:00:00.000000000',\n",
       "       '2012-11-30T00:00:00.000000000', '2013-01-04T00:00:00.000000000',\n",
       "       '2013-01-18T00:00:00.000000000', '2013-02-15T00:00:00.000000000',\n",
       "       '2013-05-24T00:00:00.000000000', '2012-09-21T00:00:00.000000000',\n",
       "       '2013-02-16T00:00:00.000000000', '2013-02-08T00:00:00.000000000',\n",
       "       '2013-05-10T00:00:00.000000000', '2013-03-08T00:00:00.000000000',\n",
       "       '2012-11-16T00:00:00.000000000', '2012-10-27T00:00:00.000000000',\n",
       "       '2013-03-01T00:00:00.000000000'], dtype='datetime64[ns]')"
      ]
     },
     "execution_count": 396,
     "metadata": {},
     "output_type": "execute_result"
    }
   ],
   "source": [
    "train_df['end_date'].unique()"
   ]
  },
  {
   "cell_type": "code",
   "execution_count": 397,
   "metadata": {},
   "outputs": [],
   "source": [
    "# train_df['end_date'].unique()\n",
    "# train_df[\"campaign_month\"] = train_df[\"start_date\"].apply(lambda x: x.month)\n",
    "# test_df[\"campaign_month\"] = test_df[\"start_date\"].apply(lambda x: x.month)\n",
    "train_df[\"campaign_month\"] = train_df[\"start_date\"].apply(lambda dt: (dt.month%12 + 3)//3)\n",
    "test_df[\"campaign_month\"] = test_df[\"start_date\"].apply(lambda dt: (dt.month%12 + 3)//3)\n",
    "\n",
    "train_df['campaign_duration'] = (train_df['end_date'] - train_df['start_date'])\n",
    "test_df['campaign_duration'] = (test_df['end_date'] - test_df['start_date'])\n",
    "\n",
    "train_df['campaign_duration'] = train_df['campaign_duration'].apply(lambda x: x.days)\n",
    "test_df['campaign_duration'] = test_df['campaign_duration'].apply(lambda x: x.days)"
   ]
  },
  {
   "cell_type": "code",
   "execution_count": 398,
   "metadata": {},
   "outputs": [],
   "source": [
    "# #correlation matrix\n",
    "# corrmat = train_df.corr()\n",
    "# f, ax = plt.subplots(figsize=(12, 9))\n",
    "# sns.heatmap(corrmat, square=True);"
   ]
  },
  {
   "cell_type": "code",
   "execution_count": 407,
   "metadata": {},
   "outputs": [
    {
     "data": {
      "text/plain": [
       "1428"
      ]
     },
     "execution_count": 407,
     "metadata": {},
     "output_type": "execute_result"
    }
   ],
   "source": [
    "#len(train_df['customer_id'].unique())"
   ]
  },
  {
   "cell_type": "code",
   "execution_count": 408,
   "metadata": {},
   "outputs": [],
   "source": [
    "feature_names = [x for x in train_df.columns if x not in ['id','redemption_status',\n",
    "                                                         'start_date','end_date']]\n",
    "target = train_df['redemption_status']"
   ]
  },
  {
   "cell_type": "code",
   "execution_count": 400,
   "metadata": {},
   "outputs": [],
   "source": [
    "# # Modeling\n",
    "# model = xgb.XGBClassifier(n_estimators=200,max_depth=6)\n",
    "\n",
    "# ## Cross Validation\n",
    "# from sklearn.model_selection import cross_val_score\n",
    "# from sklearn.metrics import r2_score, make_scorer\n",
    "# cv_score = cross_val_score(model, train_df[feature_names], target, cv=5, scoring='roc_auc')\n",
    "# print(cv_score.mean() * 100)"
   ]
  },
  {
   "cell_type": "code",
   "execution_count": 409,
   "metadata": {},
   "outputs": [
    {
     "name": "stdout",
     "output_type": "stream",
     "text": [
      "Accuracy:  0.9910680107183871\n",
      "              precision    recall  f1-score   support\n",
      "\n",
      "           0       0.99      1.00      1.00     15528\n",
      "           1       0.64      0.10      0.17       146\n",
      "\n",
      "    accuracy                           0.99     15674\n",
      "   macro avg       0.81      0.55      0.58     15674\n",
      "weighted avg       0.99      0.99      0.99     15674\n",
      "\n",
      "AUROC Plot: 0.9400\n"
     ]
    },
    {
     "data": {
      "image/png": "[encoded data removed]",
      "text/plain": [
       "<Figure size 432x288 with 1 Axes>"
      ]
     },
     "metadata": {},
     "output_type": "display_data"
    }
   ],
   "source": [
    "x_train, x_test, y_train, y_test = train_test_split(train_df[feature_names].values, target,\n",
    "                                                    test_size=0.2,\n",
    "                                                    random_state=2019,stratify=target)\n",
    "model = xgb.XGBClassifier(n_estimators=150,max_depth=6)\n",
    "model.fit(x_train, y_train)\n",
    "y_pred = model.predict(x_test)\n",
    "print(\"Accuracy: \",accuracy_score(y_test, y_pred))\n",
    "print(classification_report(y_test, y_pred))\n",
    "\n",
    "# AUC ROC CURVE\n",
    "predictions = model.predict_proba(x_test)[:,1]\n",
    "roc_auc_score(y_test, y_pred, average='weighted')\n",
    "\n",
    "fpr, tpr, threshold = roc_curve(y_test, predictions)\n",
    "\n",
    "# Calculating the AUC Score\n",
    "auc = np.trapz(tpr,fpr)\n",
    "pltTitle = print(\"AUROC Plot:\", \"%.4f\" %auc)\n",
    "\n",
    "# Plotting the ROC Curve\n",
    "plt.plot(fpr,tpr)\n",
    "plt.title(pltTitle)\n",
    "plt.show()"
   ]
  },
  {
   "cell_type": "code",
   "execution_count": 410,
   "metadata": {},
   "outputs": [],
   "source": [
    "model = xgb.XGBClassifier(n_estimators=200,max_depth=6)\n",
    "model.fit(train_df[feature_names],target)\n",
    "pred = model.predict_proba(test_df[feature_names])"
   ]
  },
  {
   "cell_type": "code",
   "execution_count": 411,
   "metadata": {},
   "outputs": [],
   "source": [
    "## make submission\n",
    "sub = pd.DataFrame()\n",
    "sub['id'] = test['id']\n",
    "sub['redemption_status'] = [i[1] for i in pred]\n",
    "sub.to_csv('result.csv', index=False)"
   ]
  },
  {
   "cell_type": "code",
   "execution_count": 412,
   "metadata": {},
   "outputs": [
    {
     "data": {
      "text/html": [
       "<div>\n",
       "<style scoped>\n",
       "    .dataframe tbody tr th:only-of-type {\n",
       "        vertical-align: middle;\n",
       "    }\n",
       "\n",
       "    .dataframe tbody tr th {\n",
       "        vertical-align: top;\n",
       "    }\n",
       "\n",
       "    .dataframe thead th {\n",
       "        text-align: right;\n",
       "    }\n",
       "</style>\n",
       "<table border=\"1\" class=\"dataframe\">\n",
       "  <thead>\n",
       "    <tr style=\"text-align: right;\">\n",
       "      <th></th>\n",
       "      <th>id</th>\n",
       "      <th>redemption_status</th>\n",
       "    </tr>\n",
       "  </thead>\n",
       "  <tbody>\n",
       "    <tr>\n",
       "      <th>0</th>\n",
       "      <td>3</td>\n",
       "      <td>0.124100</td>\n",
       "    </tr>\n",
       "    <tr>\n",
       "      <th>1</th>\n",
       "      <td>4</td>\n",
       "      <td>0.000792</td>\n",
       "    </tr>\n",
       "    <tr>\n",
       "      <th>2</th>\n",
       "      <td>5</td>\n",
       "      <td>0.100245</td>\n",
       "    </tr>\n",
       "    <tr>\n",
       "      <th>3</th>\n",
       "      <td>8</td>\n",
       "      <td>0.000093</td>\n",
       "    </tr>\n",
       "    <tr>\n",
       "      <th>4</th>\n",
       "      <td>10</td>\n",
       "      <td>0.000056</td>\n",
       "    </tr>\n",
       "  </tbody>\n",
       "</table>\n",
       "</div>"
      ],
      "text/plain": [
       "   id  redemption_status\n",
       "0   3           0.124100\n",
       "1   4           0.000792\n",
       "2   5           0.100245\n",
       "3   8           0.000093\n",
       "4  10           0.000056"
      ]
     },
     "execution_count": 412,
     "metadata": {},
     "output_type": "execute_result"
    }
   ],
   "source": [
    "sub.head()"
   ]
  },
  {
   "cell_type": "code",
   "execution_count": null,
   "metadata": {},
   "outputs": [],
   "source": []
  }
 ],
 "metadata": {
  "kernelspec": {
   "display_name": "Python 3",
   "language": "python",
   "name": "python3"
  },
  "language_info": {
   "codemirror_mode": {
    "name": "ipython",
    "version": 3
   },
   "file_extension": ".py",
   "mimetype": "text/x-python",
   "name": "python",
   "nbconvert_exporter": "python",
   "pygments_lexer": "ipython3",
   "version": "3.6.5"
  }
 },
 "nbformat": 4,
 "nbformat_minor": 2
}
